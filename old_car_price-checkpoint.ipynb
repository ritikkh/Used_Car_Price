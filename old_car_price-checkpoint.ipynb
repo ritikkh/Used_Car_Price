{
 "cells": [
  {
   "cell_type": "code",
   "execution_count": 1,
   "metadata": {},
   "outputs": [],
   "source": [
    "import pandas as pd\n",
    "import numpy as np\n",
    "import matplotlib.pyplot as plt\n",
    "%matplotlib inline\n",
    "import seaborn as sns"
   ]
  },
  {
   "cell_type": "code",
   "execution_count": 2,
   "metadata": {},
   "outputs": [],
   "source": [
    "train = pd.read_excel('./Data_train.xlsx')\n",
    "test = pd.read_excel('./Data_test.xlsx')"
   ]
  },
  {
   "cell_type": "code",
   "execution_count": 3,
   "metadata": {},
   "outputs": [
    {
     "data": {
      "text/plain": [
       "(6019, 13)"
      ]
     },
     "execution_count": 3,
     "metadata": {},
     "output_type": "execute_result"
    }
   ],
   "source": [
    "train.shape"
   ]
  },
  {
   "cell_type": "code",
   "execution_count": 4,
   "metadata": {},
   "outputs": [
    {
     "data": {
      "text/plain": [
       "(1234, 12)"
      ]
     },
     "execution_count": 4,
     "metadata": {},
     "output_type": "execute_result"
    }
   ],
   "source": [
    "test.shape"
   ]
  },
  {
   "cell_type": "code",
   "execution_count": 5,
   "metadata": {},
   "outputs": [],
   "source": [
    "big_df = train.append(test, sort=False)"
   ]
  },
  {
   "cell_type": "code",
   "execution_count": 6,
   "metadata": {},
   "outputs": [
    {
     "data": {
      "text/html": [
       "<div>\n",
       "<style scoped>\n",
       "    .dataframe tbody tr th:only-of-type {\n",
       "        vertical-align: middle;\n",
       "    }\n",
       "\n",
       "    .dataframe tbody tr th {\n",
       "        vertical-align: top;\n",
       "    }\n",
       "\n",
       "    .dataframe thead th {\n",
       "        text-align: right;\n",
       "    }\n",
       "</style>\n",
       "<table border=\"1\" class=\"dataframe\">\n",
       "  <thead>\n",
       "    <tr style=\"text-align: right;\">\n",
       "      <th></th>\n",
       "      <th>Name</th>\n",
       "      <th>Location</th>\n",
       "      <th>Year</th>\n",
       "      <th>Kilometers_Driven</th>\n",
       "      <th>Fuel_Type</th>\n",
       "      <th>Transmission</th>\n",
       "      <th>Owner_Type</th>\n",
       "      <th>Mileage</th>\n",
       "      <th>Engine</th>\n",
       "      <th>Power</th>\n",
       "      <th>Seats</th>\n",
       "      <th>New_Price</th>\n",
       "      <th>Price</th>\n",
       "    </tr>\n",
       "  </thead>\n",
       "  <tbody>\n",
       "    <tr>\n",
       "      <td>0</td>\n",
       "      <td>Maruti Wagon R LXI CNG</td>\n",
       "      <td>Mumbai</td>\n",
       "      <td>2010</td>\n",
       "      <td>72000</td>\n",
       "      <td>CNG</td>\n",
       "      <td>Manual</td>\n",
       "      <td>First</td>\n",
       "      <td>26.6 km/kg</td>\n",
       "      <td>998 CC</td>\n",
       "      <td>58.16 bhp</td>\n",
       "      <td>5.0</td>\n",
       "      <td>NaN</td>\n",
       "      <td>1.75</td>\n",
       "    </tr>\n",
       "    <tr>\n",
       "      <td>1</td>\n",
       "      <td>Hyundai Creta 1.6 CRDi SX Option</td>\n",
       "      <td>Pune</td>\n",
       "      <td>2015</td>\n",
       "      <td>41000</td>\n",
       "      <td>Diesel</td>\n",
       "      <td>Manual</td>\n",
       "      <td>First</td>\n",
       "      <td>19.67 kmpl</td>\n",
       "      <td>1582 CC</td>\n",
       "      <td>126.2 bhp</td>\n",
       "      <td>5.0</td>\n",
       "      <td>NaN</td>\n",
       "      <td>12.50</td>\n",
       "    </tr>\n",
       "    <tr>\n",
       "      <td>2</td>\n",
       "      <td>Honda Jazz V</td>\n",
       "      <td>Chennai</td>\n",
       "      <td>2011</td>\n",
       "      <td>46000</td>\n",
       "      <td>Petrol</td>\n",
       "      <td>Manual</td>\n",
       "      <td>First</td>\n",
       "      <td>18.2 kmpl</td>\n",
       "      <td>1199 CC</td>\n",
       "      <td>88.7 bhp</td>\n",
       "      <td>5.0</td>\n",
       "      <td>8.61 Lakh</td>\n",
       "      <td>4.50</td>\n",
       "    </tr>\n",
       "    <tr>\n",
       "      <td>3</td>\n",
       "      <td>Maruti Ertiga VDI</td>\n",
       "      <td>Chennai</td>\n",
       "      <td>2012</td>\n",
       "      <td>87000</td>\n",
       "      <td>Diesel</td>\n",
       "      <td>Manual</td>\n",
       "      <td>First</td>\n",
       "      <td>20.77 kmpl</td>\n",
       "      <td>1248 CC</td>\n",
       "      <td>88.76 bhp</td>\n",
       "      <td>7.0</td>\n",
       "      <td>NaN</td>\n",
       "      <td>6.00</td>\n",
       "    </tr>\n",
       "    <tr>\n",
       "      <td>4</td>\n",
       "      <td>Audi A4 New 2.0 TDI Multitronic</td>\n",
       "      <td>Coimbatore</td>\n",
       "      <td>2013</td>\n",
       "      <td>40670</td>\n",
       "      <td>Diesel</td>\n",
       "      <td>Automatic</td>\n",
       "      <td>Second</td>\n",
       "      <td>15.2 kmpl</td>\n",
       "      <td>1968 CC</td>\n",
       "      <td>140.8 bhp</td>\n",
       "      <td>5.0</td>\n",
       "      <td>NaN</td>\n",
       "      <td>17.74</td>\n",
       "    </tr>\n",
       "  </tbody>\n",
       "</table>\n",
       "</div>"
      ],
      "text/plain": [
       "                               Name    Location  Year  Kilometers_Driven  \\\n",
       "0            Maruti Wagon R LXI CNG      Mumbai  2010              72000   \n",
       "1  Hyundai Creta 1.6 CRDi SX Option        Pune  2015              41000   \n",
       "2                      Honda Jazz V     Chennai  2011              46000   \n",
       "3                 Maruti Ertiga VDI     Chennai  2012              87000   \n",
       "4   Audi A4 New 2.0 TDI Multitronic  Coimbatore  2013              40670   \n",
       "\n",
       "  Fuel_Type Transmission Owner_Type     Mileage   Engine      Power  Seats  \\\n",
       "0       CNG       Manual      First  26.6 km/kg   998 CC  58.16 bhp    5.0   \n",
       "1    Diesel       Manual      First  19.67 kmpl  1582 CC  126.2 bhp    5.0   \n",
       "2    Petrol       Manual      First   18.2 kmpl  1199 CC   88.7 bhp    5.0   \n",
       "3    Diesel       Manual      First  20.77 kmpl  1248 CC  88.76 bhp    7.0   \n",
       "4    Diesel    Automatic     Second   15.2 kmpl  1968 CC  140.8 bhp    5.0   \n",
       "\n",
       "   New_Price  Price  \n",
       "0        NaN   1.75  \n",
       "1        NaN  12.50  \n",
       "2  8.61 Lakh   4.50  \n",
       "3        NaN   6.00  \n",
       "4        NaN  17.74  "
      ]
     },
     "execution_count": 6,
     "metadata": {},
     "output_type": "execute_result"
    }
   ],
   "source": [
    "big_df.head()"
   ]
  },
  {
   "cell_type": "code",
   "execution_count": 7,
   "metadata": {},
   "outputs": [
    {
     "data": {
      "text/html": [
       "<div>\n",
       "<style scoped>\n",
       "    .dataframe tbody tr th:only-of-type {\n",
       "        vertical-align: middle;\n",
       "    }\n",
       "\n",
       "    .dataframe tbody tr th {\n",
       "        vertical-align: top;\n",
       "    }\n",
       "\n",
       "    .dataframe thead th {\n",
       "        text-align: right;\n",
       "    }\n",
       "</style>\n",
       "<table border=\"1\" class=\"dataframe\">\n",
       "  <thead>\n",
       "    <tr style=\"text-align: right;\">\n",
       "      <th></th>\n",
       "      <th>Name</th>\n",
       "      <th>Location</th>\n",
       "      <th>Year</th>\n",
       "      <th>Kilometers_Driven</th>\n",
       "      <th>Fuel_Type</th>\n",
       "      <th>Transmission</th>\n",
       "      <th>Owner_Type</th>\n",
       "      <th>Mileage</th>\n",
       "      <th>Engine</th>\n",
       "      <th>Power</th>\n",
       "      <th>Seats</th>\n",
       "      <th>New_Price</th>\n",
       "      <th>Price</th>\n",
       "    </tr>\n",
       "  </thead>\n",
       "  <tbody>\n",
       "    <tr>\n",
       "      <td>1229</td>\n",
       "      <td>Volkswagen Vento Diesel Trendline</td>\n",
       "      <td>Hyderabad</td>\n",
       "      <td>2011</td>\n",
       "      <td>89411</td>\n",
       "      <td>Diesel</td>\n",
       "      <td>Manual</td>\n",
       "      <td>First</td>\n",
       "      <td>20.54 kmpl</td>\n",
       "      <td>1598 CC</td>\n",
       "      <td>103.6 bhp</td>\n",
       "      <td>5.0</td>\n",
       "      <td>NaN</td>\n",
       "      <td>NaN</td>\n",
       "    </tr>\n",
       "    <tr>\n",
       "      <td>1230</td>\n",
       "      <td>Volkswagen Polo GT TSI</td>\n",
       "      <td>Mumbai</td>\n",
       "      <td>2015</td>\n",
       "      <td>59000</td>\n",
       "      <td>Petrol</td>\n",
       "      <td>Automatic</td>\n",
       "      <td>First</td>\n",
       "      <td>17.21 kmpl</td>\n",
       "      <td>1197 CC</td>\n",
       "      <td>103.6 bhp</td>\n",
       "      <td>5.0</td>\n",
       "      <td>NaN</td>\n",
       "      <td>NaN</td>\n",
       "    </tr>\n",
       "    <tr>\n",
       "      <td>1231</td>\n",
       "      <td>Nissan Micra Diesel XV</td>\n",
       "      <td>Kolkata</td>\n",
       "      <td>2012</td>\n",
       "      <td>28000</td>\n",
       "      <td>Diesel</td>\n",
       "      <td>Manual</td>\n",
       "      <td>First</td>\n",
       "      <td>23.08 kmpl</td>\n",
       "      <td>1461 CC</td>\n",
       "      <td>63.1 bhp</td>\n",
       "      <td>5.0</td>\n",
       "      <td>NaN</td>\n",
       "      <td>NaN</td>\n",
       "    </tr>\n",
       "    <tr>\n",
       "      <td>1232</td>\n",
       "      <td>Volkswagen Polo GT TSI</td>\n",
       "      <td>Pune</td>\n",
       "      <td>2013</td>\n",
       "      <td>52262</td>\n",
       "      <td>Petrol</td>\n",
       "      <td>Automatic</td>\n",
       "      <td>Third</td>\n",
       "      <td>17.2 kmpl</td>\n",
       "      <td>1197 CC</td>\n",
       "      <td>103.6 bhp</td>\n",
       "      <td>5.0</td>\n",
       "      <td>NaN</td>\n",
       "      <td>NaN</td>\n",
       "    </tr>\n",
       "    <tr>\n",
       "      <td>1233</td>\n",
       "      <td>Mercedes-Benz E-Class 2009-2013 E 220 CDI Avan...</td>\n",
       "      <td>Kochi</td>\n",
       "      <td>2014</td>\n",
       "      <td>72443</td>\n",
       "      <td>Diesel</td>\n",
       "      <td>Automatic</td>\n",
       "      <td>First</td>\n",
       "      <td>10.0 kmpl</td>\n",
       "      <td>2148 CC</td>\n",
       "      <td>170 bhp</td>\n",
       "      <td>5.0</td>\n",
       "      <td>NaN</td>\n",
       "      <td>NaN</td>\n",
       "    </tr>\n",
       "  </tbody>\n",
       "</table>\n",
       "</div>"
      ],
      "text/plain": [
       "                                                   Name   Location  Year  \\\n",
       "1229                  Volkswagen Vento Diesel Trendline  Hyderabad  2011   \n",
       "1230                             Volkswagen Polo GT TSI     Mumbai  2015   \n",
       "1231                             Nissan Micra Diesel XV    Kolkata  2012   \n",
       "1232                             Volkswagen Polo GT TSI       Pune  2013   \n",
       "1233  Mercedes-Benz E-Class 2009-2013 E 220 CDI Avan...      Kochi  2014   \n",
       "\n",
       "      Kilometers_Driven Fuel_Type Transmission Owner_Type     Mileage  \\\n",
       "1229              89411    Diesel       Manual      First  20.54 kmpl   \n",
       "1230              59000    Petrol    Automatic      First  17.21 kmpl   \n",
       "1231              28000    Diesel       Manual      First  23.08 kmpl   \n",
       "1232              52262    Petrol    Automatic      Third   17.2 kmpl   \n",
       "1233              72443    Diesel    Automatic      First   10.0 kmpl   \n",
       "\n",
       "       Engine      Power  Seats New_Price  Price  \n",
       "1229  1598 CC  103.6 bhp    5.0       NaN    NaN  \n",
       "1230  1197 CC  103.6 bhp    5.0       NaN    NaN  \n",
       "1231  1461 CC   63.1 bhp    5.0       NaN    NaN  \n",
       "1232  1197 CC  103.6 bhp    5.0       NaN    NaN  \n",
       "1233  2148 CC    170 bhp    5.0       NaN    NaN  "
      ]
     },
     "execution_count": 7,
     "metadata": {},
     "output_type": "execute_result"
    }
   ],
   "source": [
    "big_df.tail()"
   ]
  },
  {
   "cell_type": "code",
   "execution_count": 8,
   "metadata": {},
   "outputs": [
    {
     "data": {
      "text/plain": [
       "(7253, 13)"
      ]
     },
     "execution_count": 8,
     "metadata": {},
     "output_type": "execute_result"
    }
   ],
   "source": [
    "big_df.shape"
   ]
  },
  {
   "cell_type": "code",
   "execution_count": 9,
   "metadata": {},
   "outputs": [
    {
     "data": {
      "text/html": [
       "<div>\n",
       "<style scoped>\n",
       "    .dataframe tbody tr th:only-of-type {\n",
       "        vertical-align: middle;\n",
       "    }\n",
       "\n",
       "    .dataframe tbody tr th {\n",
       "        vertical-align: top;\n",
       "    }\n",
       "\n",
       "    .dataframe thead th {\n",
       "        text-align: right;\n",
       "    }\n",
       "</style>\n",
       "<table border=\"1\" class=\"dataframe\">\n",
       "  <thead>\n",
       "    <tr style=\"text-align: right;\">\n",
       "      <th></th>\n",
       "      <th>Year</th>\n",
       "      <th>Kilometers_Driven</th>\n",
       "      <th>Seats</th>\n",
       "      <th>Price</th>\n",
       "    </tr>\n",
       "  </thead>\n",
       "  <tbody>\n",
       "    <tr>\n",
       "      <td>count</td>\n",
       "      <td>7253.000000</td>\n",
       "      <td>7.253000e+03</td>\n",
       "      <td>7200.000000</td>\n",
       "      <td>6019.000000</td>\n",
       "    </tr>\n",
       "    <tr>\n",
       "      <td>mean</td>\n",
       "      <td>2013.365366</td>\n",
       "      <td>5.869906e+04</td>\n",
       "      <td>5.279722</td>\n",
       "      <td>9.479468</td>\n",
       "    </tr>\n",
       "    <tr>\n",
       "      <td>std</td>\n",
       "      <td>3.254421</td>\n",
       "      <td>8.442772e+04</td>\n",
       "      <td>0.811660</td>\n",
       "      <td>11.187917</td>\n",
       "    </tr>\n",
       "    <tr>\n",
       "      <td>min</td>\n",
       "      <td>1996.000000</td>\n",
       "      <td>1.710000e+02</td>\n",
       "      <td>0.000000</td>\n",
       "      <td>0.440000</td>\n",
       "    </tr>\n",
       "    <tr>\n",
       "      <td>25%</td>\n",
       "      <td>2011.000000</td>\n",
       "      <td>3.400000e+04</td>\n",
       "      <td>5.000000</td>\n",
       "      <td>3.500000</td>\n",
       "    </tr>\n",
       "    <tr>\n",
       "      <td>50%</td>\n",
       "      <td>2014.000000</td>\n",
       "      <td>5.341600e+04</td>\n",
       "      <td>5.000000</td>\n",
       "      <td>5.640000</td>\n",
       "    </tr>\n",
       "    <tr>\n",
       "      <td>75%</td>\n",
       "      <td>2016.000000</td>\n",
       "      <td>7.300000e+04</td>\n",
       "      <td>5.000000</td>\n",
       "      <td>9.950000</td>\n",
       "    </tr>\n",
       "    <tr>\n",
       "      <td>max</td>\n",
       "      <td>2019.000000</td>\n",
       "      <td>6.500000e+06</td>\n",
       "      <td>10.000000</td>\n",
       "      <td>160.000000</td>\n",
       "    </tr>\n",
       "  </tbody>\n",
       "</table>\n",
       "</div>"
      ],
      "text/plain": [
       "              Year  Kilometers_Driven        Seats        Price\n",
       "count  7253.000000       7.253000e+03  7200.000000  6019.000000\n",
       "mean   2013.365366       5.869906e+04     5.279722     9.479468\n",
       "std       3.254421       8.442772e+04     0.811660    11.187917\n",
       "min    1996.000000       1.710000e+02     0.000000     0.440000\n",
       "25%    2011.000000       3.400000e+04     5.000000     3.500000\n",
       "50%    2014.000000       5.341600e+04     5.000000     5.640000\n",
       "75%    2016.000000       7.300000e+04     5.000000     9.950000\n",
       "max    2019.000000       6.500000e+06    10.000000   160.000000"
      ]
     },
     "execution_count": 9,
     "metadata": {},
     "output_type": "execute_result"
    }
   ],
   "source": [
    "big_df.describe()"
   ]
  },
  {
   "cell_type": "code",
   "execution_count": 10,
   "metadata": {},
   "outputs": [],
   "source": [
    "big_df['name'] = big_df['Name'].copy()"
   ]
  },
  {
   "cell_type": "code",
   "execution_count": 11,
   "metadata": {},
   "outputs": [
    {
     "data": {
      "text/html": [
       "<div>\n",
       "<style scoped>\n",
       "    .dataframe tbody tr th:only-of-type {\n",
       "        vertical-align: middle;\n",
       "    }\n",
       "\n",
       "    .dataframe tbody tr th {\n",
       "        vertical-align: top;\n",
       "    }\n",
       "\n",
       "    .dataframe thead th {\n",
       "        text-align: right;\n",
       "    }\n",
       "</style>\n",
       "<table border=\"1\" class=\"dataframe\">\n",
       "  <thead>\n",
       "    <tr style=\"text-align: right;\">\n",
       "      <th></th>\n",
       "      <th>Name</th>\n",
       "      <th>Location</th>\n",
       "      <th>Year</th>\n",
       "      <th>Kilometers_Driven</th>\n",
       "      <th>Fuel_Type</th>\n",
       "      <th>Transmission</th>\n",
       "      <th>Owner_Type</th>\n",
       "      <th>Mileage</th>\n",
       "      <th>Engine</th>\n",
       "      <th>Power</th>\n",
       "      <th>Seats</th>\n",
       "      <th>New_Price</th>\n",
       "      <th>Price</th>\n",
       "      <th>name</th>\n",
       "    </tr>\n",
       "  </thead>\n",
       "  <tbody>\n",
       "    <tr>\n",
       "      <td>0</td>\n",
       "      <td>Maruti Wagon R LXI CNG</td>\n",
       "      <td>Mumbai</td>\n",
       "      <td>2010</td>\n",
       "      <td>72000</td>\n",
       "      <td>CNG</td>\n",
       "      <td>Manual</td>\n",
       "      <td>First</td>\n",
       "      <td>26.6 km/kg</td>\n",
       "      <td>998 CC</td>\n",
       "      <td>58.16 bhp</td>\n",
       "      <td>5.0</td>\n",
       "      <td>NaN</td>\n",
       "      <td>1.75</td>\n",
       "      <td>Maruti Wagon R LXI CNG</td>\n",
       "    </tr>\n",
       "    <tr>\n",
       "      <td>1</td>\n",
       "      <td>Hyundai Creta 1.6 CRDi SX Option</td>\n",
       "      <td>Pune</td>\n",
       "      <td>2015</td>\n",
       "      <td>41000</td>\n",
       "      <td>Diesel</td>\n",
       "      <td>Manual</td>\n",
       "      <td>First</td>\n",
       "      <td>19.67 kmpl</td>\n",
       "      <td>1582 CC</td>\n",
       "      <td>126.2 bhp</td>\n",
       "      <td>5.0</td>\n",
       "      <td>NaN</td>\n",
       "      <td>12.50</td>\n",
       "      <td>Hyundai Creta 1.6 CRDi SX Option</td>\n",
       "    </tr>\n",
       "    <tr>\n",
       "      <td>2</td>\n",
       "      <td>Honda Jazz V</td>\n",
       "      <td>Chennai</td>\n",
       "      <td>2011</td>\n",
       "      <td>46000</td>\n",
       "      <td>Petrol</td>\n",
       "      <td>Manual</td>\n",
       "      <td>First</td>\n",
       "      <td>18.2 kmpl</td>\n",
       "      <td>1199 CC</td>\n",
       "      <td>88.7 bhp</td>\n",
       "      <td>5.0</td>\n",
       "      <td>8.61 Lakh</td>\n",
       "      <td>4.50</td>\n",
       "      <td>Honda Jazz V</td>\n",
       "    </tr>\n",
       "    <tr>\n",
       "      <td>3</td>\n",
       "      <td>Maruti Ertiga VDI</td>\n",
       "      <td>Chennai</td>\n",
       "      <td>2012</td>\n",
       "      <td>87000</td>\n",
       "      <td>Diesel</td>\n",
       "      <td>Manual</td>\n",
       "      <td>First</td>\n",
       "      <td>20.77 kmpl</td>\n",
       "      <td>1248 CC</td>\n",
       "      <td>88.76 bhp</td>\n",
       "      <td>7.0</td>\n",
       "      <td>NaN</td>\n",
       "      <td>6.00</td>\n",
       "      <td>Maruti Ertiga VDI</td>\n",
       "    </tr>\n",
       "    <tr>\n",
       "      <td>4</td>\n",
       "      <td>Audi A4 New 2.0 TDI Multitronic</td>\n",
       "      <td>Coimbatore</td>\n",
       "      <td>2013</td>\n",
       "      <td>40670</td>\n",
       "      <td>Diesel</td>\n",
       "      <td>Automatic</td>\n",
       "      <td>Second</td>\n",
       "      <td>15.2 kmpl</td>\n",
       "      <td>1968 CC</td>\n",
       "      <td>140.8 bhp</td>\n",
       "      <td>5.0</td>\n",
       "      <td>NaN</td>\n",
       "      <td>17.74</td>\n",
       "      <td>Audi A4 New 2.0 TDI Multitronic</td>\n",
       "    </tr>\n",
       "  </tbody>\n",
       "</table>\n",
       "</div>"
      ],
      "text/plain": [
       "                               Name    Location  Year  Kilometers_Driven  \\\n",
       "0            Maruti Wagon R LXI CNG      Mumbai  2010              72000   \n",
       "1  Hyundai Creta 1.6 CRDi SX Option        Pune  2015              41000   \n",
       "2                      Honda Jazz V     Chennai  2011              46000   \n",
       "3                 Maruti Ertiga VDI     Chennai  2012              87000   \n",
       "4   Audi A4 New 2.0 TDI Multitronic  Coimbatore  2013              40670   \n",
       "\n",
       "  Fuel_Type Transmission Owner_Type     Mileage   Engine      Power  Seats  \\\n",
       "0       CNG       Manual      First  26.6 km/kg   998 CC  58.16 bhp    5.0   \n",
       "1    Diesel       Manual      First  19.67 kmpl  1582 CC  126.2 bhp    5.0   \n",
       "2    Petrol       Manual      First   18.2 kmpl  1199 CC   88.7 bhp    5.0   \n",
       "3    Diesel       Manual      First  20.77 kmpl  1248 CC  88.76 bhp    7.0   \n",
       "4    Diesel    Automatic     Second   15.2 kmpl  1968 CC  140.8 bhp    5.0   \n",
       "\n",
       "   New_Price  Price                              name  \n",
       "0        NaN   1.75            Maruti Wagon R LXI CNG  \n",
       "1        NaN  12.50  Hyundai Creta 1.6 CRDi SX Option  \n",
       "2  8.61 Lakh   4.50                      Honda Jazz V  \n",
       "3        NaN   6.00                 Maruti Ertiga VDI  \n",
       "4        NaN  17.74   Audi A4 New 2.0 TDI Multitronic  "
      ]
     },
     "execution_count": 11,
     "metadata": {},
     "output_type": "execute_result"
    }
   ],
   "source": [
    "big_df.head()"
   ]
  },
  {
   "cell_type": "code",
   "execution_count": 12,
   "metadata": {},
   "outputs": [],
   "source": [
    "big_df['company'] = big_df['name'].str.split(' ').str[0]"
   ]
  },
  {
   "cell_type": "code",
   "execution_count": 13,
   "metadata": {},
   "outputs": [],
   "source": [
    "big_df['car_name'] = big_df['Name'].str.split(' ').str[1]"
   ]
  },
  {
   "cell_type": "code",
   "execution_count": 14,
   "metadata": {},
   "outputs": [
    {
     "data": {
      "text/plain": [
       "car_name\n",
       "1            3\n",
       "1.4Gsi       1\n",
       "1000         1\n",
       "3          109\n",
       "370Z         1\n",
       "          ... \n",
       "Zen         33\n",
       "Zest        24\n",
       "i10        181\n",
       "i20        303\n",
       "redi-GO      7\n",
       "Name: car_name, Length: 219, dtype: int64"
      ]
     },
     "execution_count": 14,
     "metadata": {},
     "output_type": "execute_result"
    }
   ],
   "source": [
    "big_df.groupby('car_name')['car_name'].agg('count')"
   ]
  },
  {
   "cell_type": "code",
   "execution_count": 15,
   "metadata": {},
   "outputs": [
    {
     "data": {
      "text/plain": [
       "Name                  object\n",
       "Location              object\n",
       "Year                   int64\n",
       "Kilometers_Driven      int64\n",
       "Fuel_Type             object\n",
       "Transmission          object\n",
       "Owner_Type            object\n",
       "Mileage               object\n",
       "Engine                object\n",
       "Power                 object\n",
       "Seats                float64\n",
       "New_Price             object\n",
       "Price                float64\n",
       "name                  object\n",
       "company               object\n",
       "car_name              object\n",
       "dtype: object"
      ]
     },
     "execution_count": 15,
     "metadata": {},
     "output_type": "execute_result"
    }
   ],
   "source": [
    "big_df.dtypes"
   ]
  },
  {
   "cell_type": "code",
   "execution_count": 16,
   "metadata": {},
   "outputs": [],
   "source": [
    "big_df['mileage'] = big_df['Mileage'].str.split(' ').str[0]"
   ]
  },
  {
   "cell_type": "code",
   "execution_count": 17,
   "metadata": {},
   "outputs": [],
   "source": [
    "big_df['mileage'] = big_df['mileage'].fillna(big_df['mileage'].mode()[0])"
   ]
  },
  {
   "cell_type": "code",
   "execution_count": 18,
   "metadata": {},
   "outputs": [],
   "source": [
    "big_df['mileage'] = big_df['mileage'].astype(float)"
   ]
  },
  {
   "cell_type": "code",
   "execution_count": 19,
   "metadata": {},
   "outputs": [],
   "source": [
    "big_df['engine'] = big_df['Engine'].str.split(' ').str[0]"
   ]
  },
  {
   "cell_type": "code",
   "execution_count": 20,
   "metadata": {},
   "outputs": [],
   "source": [
    "big_df['engine'] = big_df['engine'].fillna(big_df['engine'].mode()[0])"
   ]
  },
  {
   "cell_type": "code",
   "execution_count": 21,
   "metadata": {},
   "outputs": [],
   "source": [
    "big_df['engine'] = big_df['engine'].astype(int)"
   ]
  },
  {
   "cell_type": "code",
   "execution_count": 22,
   "metadata": {},
   "outputs": [
    {
     "name": "stdout",
     "output_type": "stream",
     "text": [
      "<class 'pandas.core.frame.DataFrame'>\n",
      "Int64Index: 7253 entries, 0 to 1233\n",
      "Data columns (total 18 columns):\n",
      "Name                 7253 non-null object\n",
      "Location             7253 non-null object\n",
      "Year                 7253 non-null int64\n",
      "Kilometers_Driven    7253 non-null int64\n",
      "Fuel_Type            7253 non-null object\n",
      "Transmission         7253 non-null object\n",
      "Owner_Type           7253 non-null object\n",
      "Mileage              7251 non-null object\n",
      "Engine               7207 non-null object\n",
      "Power                7207 non-null object\n",
      "Seats                7200 non-null float64\n",
      "New_Price            1006 non-null object\n",
      "Price                6019 non-null float64\n",
      "name                 7253 non-null object\n",
      "company              7253 non-null object\n",
      "car_name             7253 non-null object\n",
      "mileage              7253 non-null float64\n",
      "engine               7253 non-null int32\n",
      "dtypes: float64(3), int32(1), int64(2), object(12)\n",
      "memory usage: 1.0+ MB\n"
     ]
    }
   ],
   "source": [
    "big_df.info()"
   ]
  },
  {
   "cell_type": "code",
   "execution_count": 23,
   "metadata": {},
   "outputs": [],
   "source": [
    "def is_int(x):\n",
    "    try:\n",
    "        int(x)\n",
    "    except:\n",
    "        return False\n",
    "    return True"
   ]
  },
  {
   "cell_type": "code",
   "execution_count": 24,
   "metadata": {
    "scrolled": false
   },
   "outputs": [
    {
     "data": {
      "text/plain": [
       "Name                 0\n",
       "Location             0\n",
       "Year                 0\n",
       "Kilometers_Driven    0\n",
       "Fuel_Type            0\n",
       "Transmission         0\n",
       "Owner_Type           0\n",
       "Mileage              0\n",
       "Engine               0\n",
       "Power                0\n",
       "Seats                0\n",
       "New_Price            0\n",
       "Price                0\n",
       "name                 0\n",
       "company              0\n",
       "car_name             0\n",
       "mileage              0\n",
       "engine               0\n",
       "dtype: int64"
      ]
     },
     "execution_count": 24,
     "metadata": {},
     "output_type": "execute_result"
    }
   ],
   "source": [
    "big_df[~big_df['engine'].apply(is_int)].agg('count')"
   ]
  },
  {
   "cell_type": "code",
   "execution_count": 25,
   "metadata": {},
   "outputs": [
    {
     "data": {
      "text/plain": [
       "array(['58.16 bhp', '126.2 bhp', '88.7 bhp', '88.76 bhp', '140.8 bhp',\n",
       "       '55.2 bhp', '63.1 bhp', '171.5 bhp', '103.6 bhp', '74 bhp',\n",
       "       '103.25 bhp', '116.3 bhp', '187.7 bhp', '115 bhp', '175.56 bhp',\n",
       "       '98.6 bhp', '83.8 bhp', '167.62 bhp', '190 bhp', '88.5 bhp',\n",
       "       '177.01 bhp', '80 bhp', '67.1 bhp', '102 bhp', '108.45 bhp',\n",
       "       '138.1 bhp', '184 bhp', '179.5 bhp', '103.5 bhp', '64 bhp',\n",
       "       '82 bhp', '254.8 bhp', '73.9 bhp', '46.3 bhp', '37.5 bhp',\n",
       "       '77 bhp', '82.9 bhp', '149.92 bhp', '138.03 bhp', '112.2 bhp',\n",
       "       '163.7 bhp', '71 bhp', '105 bhp', '174.33 bhp', '75 bhp',\n",
       "       '103.2 bhp', '53.3 bhp', '78.9 bhp', '147.6 bhp', '147.8 bhp',\n",
       "       '68 bhp', '186 bhp', '170 bhp', '69 bhp', '140 bhp', '78 bhp',\n",
       "       '194 bhp', '500 bhp', '108.5 bhp', '86.8 bhp', '187.74 bhp',\n",
       "       'null bhp', '132 bhp', '86.7 bhp', '73.94 bhp', '117.3 bhp',\n",
       "       '218 bhp', '168.5 bhp', '89.84 bhp', '110 bhp', '90 bhp',\n",
       "       '82.85 bhp', '67 bhp', '241.4 bhp', '35 bhp', '270.9 bhp',\n",
       "       '126.32 bhp', '73 bhp', '130 bhp', '100.6 bhp', '150 bhp',\n",
       "       '75.94 bhp', '215 bhp', '107.3 bhp', '37.48 bhp', '120 bhp',\n",
       "       '178 bhp', '152 bhp', '91.1 bhp', '85.80 bhp', '362.07 bhp',\n",
       "       '121.3 bhp', '143 bhp', '81.80 bhp', '171 bhp', '76.8 bhp',\n",
       "       '103.52 bhp', '444 bhp', '362.9 bhp', '67.06 bhp', '120.7 bhp',\n",
       "       '258 bhp', '81.86 bhp', '112 bhp', '88.73 bhp', '57.6 bhp',\n",
       "       '157.75 bhp', '102.5 bhp', '201.1 bhp', '83.1 bhp', '68.05 bhp',\n",
       "       '88.50 bhp', nan, '106 bhp', '100 bhp', '81.83 bhp', '85 bhp',\n",
       "       '64.1 bhp', '177.5 bhp', '246.7 bhp', '177.46 bhp', '65 bhp',\n",
       "       '67.04 bhp', '189.08 bhp', '99 bhp', '53.5 bhp', '194.3 bhp',\n",
       "       '70 bhp', '183 bhp', '254.79 bhp', '66.1 bhp', '76 bhp', '60 bhp',\n",
       "       '123.24 bhp', '47.3 bhp', '118 bhp', '88.8 bhp', '177 bhp',\n",
       "       '136 bhp', '201.15 bhp', '93.7 bhp', '177.6 bhp', '313 bhp',\n",
       "       '245 bhp', '125 bhp', '141 bhp', '227 bhp', '62 bhp', '141.1 bhp',\n",
       "       '83.14 bhp', '192 bhp', '67.05 bhp', '47 bhp', '235 bhp', '37 bhp',\n",
       "       '87.2 bhp', '203 bhp', '204 bhp', '246.74 bhp', '122 bhp',\n",
       "       '282 bhp', '181 bhp', '224 bhp', '94 bhp', '367 bhp', '98.79 bhp',\n",
       "       '62.1 bhp', '174.3 bhp', '114 bhp', '335.2 bhp', '169 bhp',\n",
       "       '191.34 bhp', '108.49 bhp', '138.02 bhp', '156 bhp', '187.4 bhp',\n",
       "       '66 bhp', '103.3 bhp', '164.7 bhp', '79.4 bhp', '198.5 bhp',\n",
       "       '154 bhp', '73.8 bhp', '181.43 bhp', '85.8 bhp', '207.8 bhp',\n",
       "       '108.4 bhp', '88 bhp', '63 bhp', '82.5 bhp', '364.9 bhp',\n",
       "       '107.2 bhp', '113.98 bhp', '126.3 bhp', '185 bhp', '237.4 bhp',\n",
       "       '99.6 bhp', '66.7 bhp', '160 bhp', '306 bhp', '98.59 bhp',\n",
       "       '92.7 bhp', '147.51 bhp', '197.2 bhp', '167.6 bhp', '165 bhp',\n",
       "       '110.4 bhp', '73.97 bhp', '147.9 bhp', '116.6 bhp', '148 bhp',\n",
       "       '34.2 bhp', '155 bhp', '197 bhp', '108.62 bhp', '118.3 bhp',\n",
       "       '38.4 bhp', '241.38 bhp', '153.86 bhp', '163.5 bhp', '226.6 bhp',\n",
       "       '84.8 bhp', '53.64 bhp', '158.2 bhp', '69.01 bhp', '181.03 bhp',\n",
       "       '58.2 bhp', '104.68 bhp', '126.24 bhp', '73.75 bhp', '158 bhp',\n",
       "       '130.2 bhp', '57.5 bhp', '97.7 bhp', '121.4 bhp', '98.96 bhp',\n",
       "       '174.5 bhp', '308 bhp', '121.36 bhp', '138 bhp', '265 bhp',\n",
       "       '84 bhp', '321 bhp', '91.72 bhp', '65.3 bhp', '88.2 bhp', '93 bhp',\n",
       "       '35.5 bhp', '86.79 bhp', '157.7 bhp', '40.3 bhp', '91.7 bhp',\n",
       "       '180 bhp', '114.4 bhp', '158.8 bhp', '157.8 bhp', '123.7 bhp',\n",
       "       '56.3 bhp', '189 bhp', '104 bhp', '210 bhp', '270.88 bhp',\n",
       "       '142 bhp', '255 bhp', '236 bhp', '167.7 bhp', '148.31 bhp',\n",
       "       '80.46 bhp', '138.08 bhp', '250 bhp', '74.9 bhp', '91.2 bhp',\n",
       "       '102.57 bhp', '97.6 bhp', '102.53 bhp', '240 bhp', '254 bhp',\n",
       "       '112.4 bhp', '73.74 bhp', '108.495 bhp', '116.9 bhp', '101 bhp',\n",
       "       '320 bhp', '70.02 bhp', '261.49 bhp', '105.5 bhp', '550 bhp',\n",
       "       '168.7 bhp', '55.23 bhp', '94.68 bhp', '152.88 bhp', '163.2 bhp',\n",
       "       '203.2 bhp', '241 bhp', '95 bhp', '200 bhp', '271.23 bhp',\n",
       "       '63.12 bhp', '85.7 bhp', '308.43 bhp', '118.6 bhp', '199.3 bhp',\n",
       "       '83.83 bhp', '55 bhp', '83 bhp', '300 bhp', '201 bhp', '262.6 bhp',\n",
       "       '163 bhp', '58.33 bhp', '86.76 bhp', '76.9 bhp', '174.57 bhp',\n",
       "       '301.73 bhp', '68.1 bhp', '162 bhp', '394.3 bhp', '80.9 bhp',\n",
       "       '147.5 bhp', '272 bhp', '340 bhp', '120.33 bhp', '82.4 bhp',\n",
       "       '231.1 bhp', '335.3 bhp', '333 bhp', '198.25 bhp', '224.34 bhp',\n",
       "       '402 bhp', '261 bhp', '61 bhp', '144 bhp', '71.01 bhp',\n",
       "       '271.72 bhp', '134 bhp', '135.1 bhp', '92 bhp', '64.08 bhp',\n",
       "       '261.5 bhp', '123.37 bhp', '175.67 bhp', '53 bhp', '110.5 bhp',\n",
       "       '178.4 bhp', '193.1 bhp', '41 bhp', '395 bhp', '48.21 bhp',\n",
       "       '450 bhp', '421 bhp', '89.75 bhp', '387.3 bhp', '130.3 bhp',\n",
       "       '281.61 bhp', '52.8 bhp', '139.01 bhp', '208 bhp', '503 bhp',\n",
       "       '168 bhp', '98.82 bhp', '139.07 bhp', '83.11 bhp', '74.93 bhp',\n",
       "       '382 bhp', '74.96 bhp', '552 bhp', '127 bhp', '560 bhp',\n",
       "       '116.4 bhp', '161.6 bhp', '488.1 bhp', '103 bhp', '181.04 bhp',\n",
       "       '138.13 bhp', '78.8 bhp', '616 bhp', '170.30 bhp', '182.46 bhp',\n",
       "       '245.41 bhp', '161 bhp', '120.69 bhp', '252 bhp', '147.4 bhp',\n",
       "       '328.5 bhp', '98.63 bhp', '360 bhp', '241.6 bhp'], dtype=object)"
      ]
     },
     "execution_count": 25,
     "metadata": {},
     "output_type": "execute_result"
    }
   ],
   "source": [
    "big_df['Power'].unique()"
   ]
  },
  {
   "cell_type": "code",
   "execution_count": 26,
   "metadata": {},
   "outputs": [],
   "source": [
    "big_df['power'] = big_df['Power'].str.split(' ').str[0]"
   ]
  },
  {
   "cell_type": "code",
   "execution_count": 27,
   "metadata": {},
   "outputs": [],
   "source": [
    "big_df['power'] = big_df['power'].fillna(big_df['power'].mode()[0])"
   ]
  },
  {
   "cell_type": "code",
   "execution_count": 28,
   "metadata": {},
   "outputs": [],
   "source": [
    "big_df['power'] = big_df['power'].replace('null',big_df['power'].mode()[0])"
   ]
  },
  {
   "cell_type": "code",
   "execution_count": 29,
   "metadata": {},
   "outputs": [],
   "source": [
    "big_df['power'] = big_df['power'].astype(float)"
   ]
  },
  {
   "cell_type": "code",
   "execution_count": 30,
   "metadata": {},
   "outputs": [],
   "source": [
    "def is_float(x):\n",
    "    try:\n",
    "        float(x)\n",
    "    except:\n",
    "        return False\n",
    "    return True"
   ]
  },
  {
   "cell_type": "code",
   "execution_count": 31,
   "metadata": {},
   "outputs": [
    {
     "data": {
      "text/plain": [
       "Name                 0\n",
       "Location             0\n",
       "Year                 0\n",
       "Kilometers_Driven    0\n",
       "Fuel_Type            0\n",
       "Transmission         0\n",
       "Owner_Type           0\n",
       "Mileage              0\n",
       "Engine               0\n",
       "Power                0\n",
       "Seats                0\n",
       "New_Price            0\n",
       "Price                0\n",
       "name                 0\n",
       "company              0\n",
       "car_name             0\n",
       "mileage              0\n",
       "engine               0\n",
       "power                0\n",
       "dtype: int64"
      ]
     },
     "execution_count": 31,
     "metadata": {},
     "output_type": "execute_result"
    }
   ],
   "source": [
    "big_df[~big_df['power'].apply(is_float)].count()"
   ]
  },
  {
   "cell_type": "code",
   "execution_count": 32,
   "metadata": {},
   "outputs": [
    {
     "data": {
      "text/plain": [
       "5.0     6047\n",
       "7.0      796\n",
       "8.0      170\n",
       "4.0      119\n",
       "6.0       38\n",
       "2.0       18\n",
       "10.0       8\n",
       "9.0        3\n",
       "0.0        1\n",
       "Name: Seats, dtype: int64"
      ]
     },
     "execution_count": 32,
     "metadata": {},
     "output_type": "execute_result"
    }
   ],
   "source": [
    "big_df['Seats'].value_counts()"
   ]
  },
  {
   "cell_type": "code",
   "execution_count": 33,
   "metadata": {},
   "outputs": [],
   "source": [
    "big_df['Seats'] = big_df['Seats'].replace(0.0,5.0)"
   ]
  },
  {
   "cell_type": "code",
   "execution_count": 34,
   "metadata": {},
   "outputs": [
    {
     "data": {
      "text/plain": [
       "array([ 5.,  7.,  8.,  4.,  6.,  2., nan, 10.,  9.])"
      ]
     },
     "execution_count": 34,
     "metadata": {},
     "output_type": "execute_result"
    }
   ],
   "source": [
    "big_df['Seats'].unique()"
   ]
  },
  {
   "cell_type": "code",
   "execution_count": 35,
   "metadata": {},
   "outputs": [],
   "source": [
    "big_df['Seats'] = big_df['Seats'].fillna(5.0)"
   ]
  },
  {
   "cell_type": "code",
   "execution_count": 36,
   "metadata": {},
   "outputs": [],
   "source": [
    "big_df = big_df.drop(['Power', 'Engine', 'Mileage'], axis=1)"
   ]
  },
  {
   "cell_type": "code",
   "execution_count": 37,
   "metadata": {},
   "outputs": [
    {
     "data": {
      "text/plain": [
       "Price                1.000000\n",
       "power                0.770415\n",
       "engine               0.657196\n",
       "Year                 0.305327\n",
       "Seats                0.053787\n",
       "Kilometers_Driven   -0.011493\n",
       "mileage             -0.306610\n",
       "Name: Price, dtype: float64"
      ]
     },
     "execution_count": 37,
     "metadata": {},
     "output_type": "execute_result"
    }
   ],
   "source": [
    "corr_matrix = big_df.corr()\n",
    "corr_matrix['Price'].sort_values(ascending = False)"
   ]
  },
  {
   "cell_type": "code",
   "execution_count": 38,
   "metadata": {},
   "outputs": [],
   "source": [
    "big_df = big_df.drop(['name','Name'], axis=1)"
   ]
  },
  {
   "cell_type": "code",
   "execution_count": 39,
   "metadata": {},
   "outputs": [],
   "source": [
    "#big_df['new_price'] = big_df['New_Price'].str.split(' ').str[0]"
   ]
  },
  {
   "cell_type": "code",
   "execution_count": 40,
   "metadata": {},
   "outputs": [],
   "source": [
    "#big_df['new_price'] = big_df['new_price'].astype(float)"
   ]
  },
  {
   "cell_type": "code",
   "execution_count": 41,
   "metadata": {},
   "outputs": [],
   "source": [
    "#big_df['new_price'] = big_df['new_price'].replace(np.nan,0.0)"
   ]
  },
  {
   "cell_type": "code",
   "execution_count": 42,
   "metadata": {},
   "outputs": [],
   "source": [
    "#big_df['new_price'].unique()"
   ]
  },
  {
   "cell_type": "code",
   "execution_count": 43,
   "metadata": {},
   "outputs": [],
   "source": [
    "#big_df['car_name'].value_counts(ascending = False).head(30)"
   ]
  },
  {
   "cell_type": "code",
   "execution_count": 44,
   "metadata": {},
   "outputs": [],
   "source": [
    "#p={}\n",
    "#for i in big_df['car_name']:\n",
    "#    if(big_df['car_name'])"
   ]
  },
  {
   "cell_type": "code",
   "execution_count": 45,
   "metadata": {},
   "outputs": [],
   "source": [
    "#np.where(big_df['new_price'])"
   ]
  },
  {
   "cell_type": "code",
   "execution_count": 46,
   "metadata": {},
   "outputs": [],
   "source": [
    "big_df = big_df.drop(['New_Price'], axis=1)"
   ]
  },
  {
   "cell_type": "code",
   "execution_count": 47,
   "metadata": {},
   "outputs": [
    {
     "name": "stdout",
     "output_type": "stream",
     "text": [
      "<class 'pandas.core.frame.DataFrame'>\n",
      "Int64Index: 7253 entries, 0 to 1233\n",
      "Data columns (total 13 columns):\n",
      "Location             7253 non-null object\n",
      "Year                 7253 non-null int64\n",
      "Kilometers_Driven    7253 non-null int64\n",
      "Fuel_Type            7253 non-null object\n",
      "Transmission         7253 non-null object\n",
      "Owner_Type           7253 non-null object\n",
      "Seats                7253 non-null float64\n",
      "Price                6019 non-null float64\n",
      "company              7253 non-null object\n",
      "car_name             7253 non-null object\n",
      "mileage              7253 non-null float64\n",
      "engine               7253 non-null int32\n",
      "power                7253 non-null float64\n",
      "dtypes: float64(4), int32(1), int64(2), object(6)\n",
      "memory usage: 765.0+ KB\n"
     ]
    }
   ],
   "source": [
    "big_df.info()"
   ]
  },
  {
   "cell_type": "code",
   "execution_count": 48,
   "metadata": {},
   "outputs": [
    {
     "data": {
      "text/plain": [
       "Mumbai        949\n",
       "Hyderabad     876\n",
       "Coimbatore    772\n",
       "Kochi         772\n",
       "Pune          765\n",
       "Delhi         660\n",
       "Kolkata       654\n",
       "Chennai       591\n",
       "Jaipur        499\n",
       "Bangalore     440\n",
       "Ahmedabad     275\n",
       "Name: Location, dtype: int64"
      ]
     },
     "execution_count": 48,
     "metadata": {},
     "output_type": "execute_result"
    }
   ],
   "source": [
    "big_df.Location.value_counts()"
   ]
  },
  {
   "cell_type": "code",
   "execution_count": 49,
   "metadata": {},
   "outputs": [],
   "source": [
    "top_11 = [x for x in big_df.Location.value_counts().sort_values(ascending=False).head(11).index]"
   ]
  },
  {
   "cell_type": "code",
   "execution_count": 50,
   "metadata": {},
   "outputs": [],
   "source": [
    "def one_hot_top_x(df,variable,top_x_labels):\n",
    "    for label in top_x_labels:\n",
    "        df[variable+'_'+label] = np.where(df[variable]==label,1,0)"
   ]
  },
  {
   "cell_type": "code",
   "execution_count": 51,
   "metadata": {},
   "outputs": [],
   "source": [
    "one_hot_top_x(big_df,'Location',top_11)"
   ]
  },
  {
   "cell_type": "code",
   "execution_count": 52,
   "metadata": {},
   "outputs": [
    {
     "data": {
      "text/html": [
       "<div>\n",
       "<style scoped>\n",
       "    .dataframe tbody tr th:only-of-type {\n",
       "        vertical-align: middle;\n",
       "    }\n",
       "\n",
       "    .dataframe tbody tr th {\n",
       "        vertical-align: top;\n",
       "    }\n",
       "\n",
       "    .dataframe thead th {\n",
       "        text-align: right;\n",
       "    }\n",
       "</style>\n",
       "<table border=\"1\" class=\"dataframe\">\n",
       "  <thead>\n",
       "    <tr style=\"text-align: right;\">\n",
       "      <th></th>\n",
       "      <th>Location</th>\n",
       "      <th>Year</th>\n",
       "      <th>Kilometers_Driven</th>\n",
       "      <th>Fuel_Type</th>\n",
       "      <th>Transmission</th>\n",
       "      <th>Owner_Type</th>\n",
       "      <th>Seats</th>\n",
       "      <th>Price</th>\n",
       "      <th>company</th>\n",
       "      <th>car_name</th>\n",
       "      <th>...</th>\n",
       "      <th>Location_Hyderabad</th>\n",
       "      <th>Location_Kochi</th>\n",
       "      <th>Location_Coimbatore</th>\n",
       "      <th>Location_Pune</th>\n",
       "      <th>Location_Delhi</th>\n",
       "      <th>Location_Kolkata</th>\n",
       "      <th>Location_Chennai</th>\n",
       "      <th>Location_Jaipur</th>\n",
       "      <th>Location_Bangalore</th>\n",
       "      <th>Location_Ahmedabad</th>\n",
       "    </tr>\n",
       "  </thead>\n",
       "  <tbody>\n",
       "    <tr>\n",
       "      <td>0</td>\n",
       "      <td>Mumbai</td>\n",
       "      <td>2010</td>\n",
       "      <td>72000</td>\n",
       "      <td>CNG</td>\n",
       "      <td>Manual</td>\n",
       "      <td>First</td>\n",
       "      <td>5.0</td>\n",
       "      <td>1.75</td>\n",
       "      <td>Maruti</td>\n",
       "      <td>Wagon</td>\n",
       "      <td>...</td>\n",
       "      <td>0</td>\n",
       "      <td>0</td>\n",
       "      <td>0</td>\n",
       "      <td>0</td>\n",
       "      <td>0</td>\n",
       "      <td>0</td>\n",
       "      <td>0</td>\n",
       "      <td>0</td>\n",
       "      <td>0</td>\n",
       "      <td>0</td>\n",
       "    </tr>\n",
       "    <tr>\n",
       "      <td>1</td>\n",
       "      <td>Pune</td>\n",
       "      <td>2015</td>\n",
       "      <td>41000</td>\n",
       "      <td>Diesel</td>\n",
       "      <td>Manual</td>\n",
       "      <td>First</td>\n",
       "      <td>5.0</td>\n",
       "      <td>12.50</td>\n",
       "      <td>Hyundai</td>\n",
       "      <td>Creta</td>\n",
       "      <td>...</td>\n",
       "      <td>0</td>\n",
       "      <td>0</td>\n",
       "      <td>0</td>\n",
       "      <td>1</td>\n",
       "      <td>0</td>\n",
       "      <td>0</td>\n",
       "      <td>0</td>\n",
       "      <td>0</td>\n",
       "      <td>0</td>\n",
       "      <td>0</td>\n",
       "    </tr>\n",
       "    <tr>\n",
       "      <td>2</td>\n",
       "      <td>Chennai</td>\n",
       "      <td>2011</td>\n",
       "      <td>46000</td>\n",
       "      <td>Petrol</td>\n",
       "      <td>Manual</td>\n",
       "      <td>First</td>\n",
       "      <td>5.0</td>\n",
       "      <td>4.50</td>\n",
       "      <td>Honda</td>\n",
       "      <td>Jazz</td>\n",
       "      <td>...</td>\n",
       "      <td>0</td>\n",
       "      <td>0</td>\n",
       "      <td>0</td>\n",
       "      <td>0</td>\n",
       "      <td>0</td>\n",
       "      <td>0</td>\n",
       "      <td>1</td>\n",
       "      <td>0</td>\n",
       "      <td>0</td>\n",
       "      <td>0</td>\n",
       "    </tr>\n",
       "    <tr>\n",
       "      <td>3</td>\n",
       "      <td>Chennai</td>\n",
       "      <td>2012</td>\n",
       "      <td>87000</td>\n",
       "      <td>Diesel</td>\n",
       "      <td>Manual</td>\n",
       "      <td>First</td>\n",
       "      <td>7.0</td>\n",
       "      <td>6.00</td>\n",
       "      <td>Maruti</td>\n",
       "      <td>Ertiga</td>\n",
       "      <td>...</td>\n",
       "      <td>0</td>\n",
       "      <td>0</td>\n",
       "      <td>0</td>\n",
       "      <td>0</td>\n",
       "      <td>0</td>\n",
       "      <td>0</td>\n",
       "      <td>1</td>\n",
       "      <td>0</td>\n",
       "      <td>0</td>\n",
       "      <td>0</td>\n",
       "    </tr>\n",
       "    <tr>\n",
       "      <td>4</td>\n",
       "      <td>Coimbatore</td>\n",
       "      <td>2013</td>\n",
       "      <td>40670</td>\n",
       "      <td>Diesel</td>\n",
       "      <td>Automatic</td>\n",
       "      <td>Second</td>\n",
       "      <td>5.0</td>\n",
       "      <td>17.74</td>\n",
       "      <td>Audi</td>\n",
       "      <td>A4</td>\n",
       "      <td>...</td>\n",
       "      <td>0</td>\n",
       "      <td>0</td>\n",
       "      <td>1</td>\n",
       "      <td>0</td>\n",
       "      <td>0</td>\n",
       "      <td>0</td>\n",
       "      <td>0</td>\n",
       "      <td>0</td>\n",
       "      <td>0</td>\n",
       "      <td>0</td>\n",
       "    </tr>\n",
       "  </tbody>\n",
       "</table>\n",
       "<p>5 rows × 24 columns</p>\n",
       "</div>"
      ],
      "text/plain": [
       "     Location  Year  Kilometers_Driven Fuel_Type Transmission Owner_Type  \\\n",
       "0      Mumbai  2010              72000       CNG       Manual      First   \n",
       "1        Pune  2015              41000    Diesel       Manual      First   \n",
       "2     Chennai  2011              46000    Petrol       Manual      First   \n",
       "3     Chennai  2012              87000    Diesel       Manual      First   \n",
       "4  Coimbatore  2013              40670    Diesel    Automatic     Second   \n",
       "\n",
       "   Seats  Price  company car_name  ...  Location_Hyderabad  Location_Kochi  \\\n",
       "0    5.0   1.75   Maruti    Wagon  ...                   0               0   \n",
       "1    5.0  12.50  Hyundai    Creta  ...                   0               0   \n",
       "2    5.0   4.50    Honda     Jazz  ...                   0               0   \n",
       "3    7.0   6.00   Maruti   Ertiga  ...                   0               0   \n",
       "4    5.0  17.74     Audi       A4  ...                   0               0   \n",
       "\n",
       "   Location_Coimbatore  Location_Pune  Location_Delhi  Location_Kolkata  \\\n",
       "0                    0              0               0                 0   \n",
       "1                    0              1               0                 0   \n",
       "2                    0              0               0                 0   \n",
       "3                    0              0               0                 0   \n",
       "4                    1              0               0                 0   \n",
       "\n",
       "   Location_Chennai  Location_Jaipur  Location_Bangalore  Location_Ahmedabad  \n",
       "0                 0                0                   0                   0  \n",
       "1                 0                0                   0                   0  \n",
       "2                 1                0                   0                   0  \n",
       "3                 1                0                   0                   0  \n",
       "4                 0                0                   0                   0  \n",
       "\n",
       "[5 rows x 24 columns]"
      ]
     },
     "execution_count": 52,
     "metadata": {},
     "output_type": "execute_result"
    }
   ],
   "source": [
    "big_df.head()"
   ]
  },
  {
   "cell_type": "code",
   "execution_count": 53,
   "metadata": {},
   "outputs": [
    {
     "data": {
      "text/plain": [
       "Diesel      3852\n",
       "Petrol      3325\n",
       "CNG           62\n",
       "LPG           12\n",
       "Electric       2\n",
       "Name: Fuel_Type, dtype: int64"
      ]
     },
     "execution_count": 53,
     "metadata": {},
     "output_type": "execute_result"
    }
   ],
   "source": [
    "big_df.Fuel_Type.value_counts().sort_values(ascending=False)"
   ]
  },
  {
   "cell_type": "code",
   "execution_count": 54,
   "metadata": {},
   "outputs": [],
   "source": [
    "top_4 = [x for x in big_df.Fuel_Type.value_counts().sort_values(ascending=False).head(4).index]"
   ]
  },
  {
   "cell_type": "code",
   "execution_count": 55,
   "metadata": {},
   "outputs": [],
   "source": [
    "one_hot_top_x(big_df,'Fuel_Type',top_4)"
   ]
  },
  {
   "cell_type": "code",
   "execution_count": 56,
   "metadata": {},
   "outputs": [
    {
     "data": {
      "text/plain": [
       "Manual       5204\n",
       "Automatic    2049\n",
       "Name: Transmission, dtype: int64"
      ]
     },
     "execution_count": 56,
     "metadata": {},
     "output_type": "execute_result"
    }
   ],
   "source": [
    "big_df.Transmission.value_counts().sort_values(ascending=False)"
   ]
  },
  {
   "cell_type": "code",
   "execution_count": 57,
   "metadata": {},
   "outputs": [],
   "source": [
    "top_1 = [x for x in big_df.Transmission.value_counts().sort_values(ascending=False).head(1).index]"
   ]
  },
  {
   "cell_type": "code",
   "execution_count": 58,
   "metadata": {},
   "outputs": [],
   "source": [
    "one_hot_top_x(big_df,'Transmission',top_1)"
   ]
  },
  {
   "cell_type": "code",
   "execution_count": 59,
   "metadata": {},
   "outputs": [
    {
     "data": {
      "text/plain": [
       "First             5952\n",
       "Second            1152\n",
       "Third              137\n",
       "Fourth & Above      12\n",
       "Name: Owner_Type, dtype: int64"
      ]
     },
     "execution_count": 59,
     "metadata": {},
     "output_type": "execute_result"
    }
   ],
   "source": [
    "big_df.Owner_Type.value_counts().sort_values(ascending=False)"
   ]
  },
  {
   "cell_type": "code",
   "execution_count": 60,
   "metadata": {},
   "outputs": [],
   "source": [
    "top_3 = [x for x in big_df.Owner_Type.value_counts().sort_values(ascending=False).head(3).index]"
   ]
  },
  {
   "cell_type": "code",
   "execution_count": 61,
   "metadata": {},
   "outputs": [],
   "source": [
    "one_hot_top_x(big_df,'Owner_Type',top_3)"
   ]
  },
  {
   "cell_type": "code",
   "execution_count": 62,
   "metadata": {},
   "outputs": [
    {
     "data": {
      "text/plain": [
       "Maruti           1444\n",
       "Hyundai          1340\n",
       "Honda             743\n",
       "Toyota            507\n",
       "Mercedes-Benz     380\n",
       "Volkswagen        374\n",
       "Ford              351\n",
       "Mahindra          331\n",
       "BMW               312\n",
       "Audi              285\n",
       "Tata              228\n",
       "Skoda             202\n",
       "Renault           170\n",
       "Chevrolet         151\n",
       "Nissan            117\n",
       "Land               67\n",
       "Jaguar             48\n",
       "Fiat               38\n",
       "Mitsubishi         36\n",
       "Mini               31\n",
       "Volvo              28\n",
       "Porsche            19\n",
       "Jeep               19\n",
       "Datsun             17\n",
       "ISUZU               3\n",
       "Force               3\n",
       "Bentley             2\n",
       "Isuzu               2\n",
       "Hindustan           1\n",
       "Smart               1\n",
       "Ambassador          1\n",
       "OpelCorsa           1\n",
       "Lamborghini         1\n",
       "Name: company, dtype: int64"
      ]
     },
     "execution_count": 62,
     "metadata": {},
     "output_type": "execute_result"
    }
   ],
   "source": [
    "big_df.company.value_counts().sort_values(ascending=False)"
   ]
  },
  {
   "cell_type": "code",
   "execution_count": 63,
   "metadata": {},
   "outputs": [],
   "source": [
    "top_15 = [x for x in big_df.company.value_counts().sort_values(ascending=False).head(15).index]"
   ]
  },
  {
   "cell_type": "code",
   "execution_count": 64,
   "metadata": {},
   "outputs": [],
   "source": [
    "one_hot_top_x(big_df,'company',top_15)"
   ]
  },
  {
   "cell_type": "code",
   "execution_count": 65,
   "metadata": {},
   "outputs": [
    {
     "data": {
      "text/plain": [
       "Swift         418\n",
       "City          318\n",
       "i20           303\n",
       "Innova        203\n",
       "Verna         200\n",
       "             ... \n",
       "Countryman      1\n",
       "WR-V            1\n",
       "Prius           1\n",
       "Beetle          1\n",
       "Boxster         1\n",
       "Name: car_name, Length: 219, dtype: int64"
      ]
     },
     "execution_count": 65,
     "metadata": {},
     "output_type": "execute_result"
    }
   ],
   "source": [
    "big_df.car_name.value_counts().sort_values(ascending=False)"
   ]
  },
  {
   "cell_type": "code",
   "execution_count": 66,
   "metadata": {},
   "outputs": [],
   "source": [
    "top_19 = [x for x in big_df.car_name.value_counts().sort_values(ascending=False).head(19).index]"
   ]
  },
  {
   "cell_type": "code",
   "execution_count": 67,
   "metadata": {},
   "outputs": [],
   "source": [
    "one_hot_top_x(big_df,'car_name',top_19)"
   ]
  },
  {
   "cell_type": "code",
   "execution_count": 68,
   "metadata": {},
   "outputs": [],
   "source": [
    "big_df = big_df.drop(['Location','Fuel_Type','Transmission','Owner_Type','company','car_name'], axis=1)"
   ]
  },
  {
   "cell_type": "markdown",
   "metadata": {},
   "source": [
    "# Selecting Appropriate Models"
   ]
  },
  {
   "cell_type": "code",
   "execution_count": 69,
   "metadata": {},
   "outputs": [],
   "source": [
    "m_data = big_df[0:6019]"
   ]
  },
  {
   "cell_type": "code",
   "execution_count": 70,
   "metadata": {},
   "outputs": [],
   "source": [
    "X_train = m_data[0:6019]\n",
    "X_train = X_train.drop(['Price'], axis=1)"
   ]
  },
  {
   "cell_type": "code",
   "execution_count": 71,
   "metadata": {},
   "outputs": [],
   "source": [
    "y_train = m_data['Price']"
   ]
  },
  {
   "cell_type": "code",
   "execution_count": 72,
   "metadata": {},
   "outputs": [
    {
     "data": {
      "text/html": [
       "<div>\n",
       "<style scoped>\n",
       "    .dataframe tbody tr th:only-of-type {\n",
       "        vertical-align: middle;\n",
       "    }\n",
       "\n",
       "    .dataframe tbody tr th {\n",
       "        vertical-align: top;\n",
       "    }\n",
       "\n",
       "    .dataframe thead th {\n",
       "        text-align: right;\n",
       "    }\n",
       "</style>\n",
       "<table border=\"1\" class=\"dataframe\">\n",
       "  <thead>\n",
       "    <tr style=\"text-align: right;\">\n",
       "      <th></th>\n",
       "      <th>Year</th>\n",
       "      <th>Kilometers_Driven</th>\n",
       "      <th>Seats</th>\n",
       "      <th>mileage</th>\n",
       "      <th>engine</th>\n",
       "      <th>power</th>\n",
       "      <th>Location_Mumbai</th>\n",
       "      <th>Location_Hyderabad</th>\n",
       "      <th>Location_Kochi</th>\n",
       "      <th>Location_Coimbatore</th>\n",
       "      <th>...</th>\n",
       "      <th>car_name_Polo</th>\n",
       "      <th>car_name_XUV500</th>\n",
       "      <th>car_name_Vento</th>\n",
       "      <th>car_name_Amaze</th>\n",
       "      <th>car_name_New</th>\n",
       "      <th>car_name_Fortuner</th>\n",
       "      <th>car_name_Creta</th>\n",
       "      <th>car_name_Figo</th>\n",
       "      <th>car_name_3</th>\n",
       "      <th>car_name_E-Class</th>\n",
       "    </tr>\n",
       "  </thead>\n",
       "  <tbody>\n",
       "    <tr>\n",
       "      <td>6014</td>\n",
       "      <td>2014</td>\n",
       "      <td>27365</td>\n",
       "      <td>5.0</td>\n",
       "      <td>28.40</td>\n",
       "      <td>1248</td>\n",
       "      <td>74.0</td>\n",
       "      <td>0</td>\n",
       "      <td>0</td>\n",
       "      <td>0</td>\n",
       "      <td>0</td>\n",
       "      <td>...</td>\n",
       "      <td>0</td>\n",
       "      <td>0</td>\n",
       "      <td>0</td>\n",
       "      <td>0</td>\n",
       "      <td>0</td>\n",
       "      <td>0</td>\n",
       "      <td>0</td>\n",
       "      <td>0</td>\n",
       "      <td>0</td>\n",
       "      <td>0</td>\n",
       "    </tr>\n",
       "    <tr>\n",
       "      <td>6015</td>\n",
       "      <td>2015</td>\n",
       "      <td>100000</td>\n",
       "      <td>5.0</td>\n",
       "      <td>24.40</td>\n",
       "      <td>1120</td>\n",
       "      <td>71.0</td>\n",
       "      <td>0</td>\n",
       "      <td>0</td>\n",
       "      <td>0</td>\n",
       "      <td>0</td>\n",
       "      <td>...</td>\n",
       "      <td>0</td>\n",
       "      <td>0</td>\n",
       "      <td>0</td>\n",
       "      <td>0</td>\n",
       "      <td>0</td>\n",
       "      <td>0</td>\n",
       "      <td>0</td>\n",
       "      <td>0</td>\n",
       "      <td>0</td>\n",
       "      <td>0</td>\n",
       "    </tr>\n",
       "    <tr>\n",
       "      <td>6016</td>\n",
       "      <td>2012</td>\n",
       "      <td>55000</td>\n",
       "      <td>8.0</td>\n",
       "      <td>14.00</td>\n",
       "      <td>2498</td>\n",
       "      <td>112.0</td>\n",
       "      <td>0</td>\n",
       "      <td>0</td>\n",
       "      <td>0</td>\n",
       "      <td>0</td>\n",
       "      <td>...</td>\n",
       "      <td>0</td>\n",
       "      <td>0</td>\n",
       "      <td>0</td>\n",
       "      <td>0</td>\n",
       "      <td>0</td>\n",
       "      <td>0</td>\n",
       "      <td>0</td>\n",
       "      <td>0</td>\n",
       "      <td>0</td>\n",
       "      <td>0</td>\n",
       "    </tr>\n",
       "    <tr>\n",
       "      <td>6017</td>\n",
       "      <td>2013</td>\n",
       "      <td>46000</td>\n",
       "      <td>5.0</td>\n",
       "      <td>18.90</td>\n",
       "      <td>998</td>\n",
       "      <td>67.1</td>\n",
       "      <td>0</td>\n",
       "      <td>0</td>\n",
       "      <td>0</td>\n",
       "      <td>0</td>\n",
       "      <td>...</td>\n",
       "      <td>0</td>\n",
       "      <td>0</td>\n",
       "      <td>0</td>\n",
       "      <td>0</td>\n",
       "      <td>0</td>\n",
       "      <td>0</td>\n",
       "      <td>0</td>\n",
       "      <td>0</td>\n",
       "      <td>0</td>\n",
       "      <td>0</td>\n",
       "    </tr>\n",
       "    <tr>\n",
       "      <td>6018</td>\n",
       "      <td>2011</td>\n",
       "      <td>47000</td>\n",
       "      <td>5.0</td>\n",
       "      <td>25.44</td>\n",
       "      <td>936</td>\n",
       "      <td>57.6</td>\n",
       "      <td>0</td>\n",
       "      <td>1</td>\n",
       "      <td>0</td>\n",
       "      <td>0</td>\n",
       "      <td>...</td>\n",
       "      <td>0</td>\n",
       "      <td>0</td>\n",
       "      <td>0</td>\n",
       "      <td>0</td>\n",
       "      <td>0</td>\n",
       "      <td>0</td>\n",
       "      <td>0</td>\n",
       "      <td>0</td>\n",
       "      <td>0</td>\n",
       "      <td>0</td>\n",
       "    </tr>\n",
       "  </tbody>\n",
       "</table>\n",
       "<p>5 rows × 59 columns</p>\n",
       "</div>"
      ],
      "text/plain": [
       "      Year  Kilometers_Driven  Seats  mileage  engine  power  Location_Mumbai  \\\n",
       "6014  2014              27365    5.0    28.40    1248   74.0                0   \n",
       "6015  2015             100000    5.0    24.40    1120   71.0                0   \n",
       "6016  2012              55000    8.0    14.00    2498  112.0                0   \n",
       "6017  2013              46000    5.0    18.90     998   67.1                0   \n",
       "6018  2011              47000    5.0    25.44     936   57.6                0   \n",
       "\n",
       "      Location_Hyderabad  Location_Kochi  Location_Coimbatore  ...  \\\n",
       "6014                   0               0                    0  ...   \n",
       "6015                   0               0                    0  ...   \n",
       "6016                   0               0                    0  ...   \n",
       "6017                   0               0                    0  ...   \n",
       "6018                   1               0                    0  ...   \n",
       "\n",
       "      car_name_Polo  car_name_XUV500  car_name_Vento  car_name_Amaze  \\\n",
       "6014              0                0               0               0   \n",
       "6015              0                0               0               0   \n",
       "6016              0                0               0               0   \n",
       "6017              0                0               0               0   \n",
       "6018              0                0               0               0   \n",
       "\n",
       "      car_name_New  car_name_Fortuner  car_name_Creta  car_name_Figo  \\\n",
       "6014             0                  0               0              0   \n",
       "6015             0                  0               0              0   \n",
       "6016             0                  0               0              0   \n",
       "6017             0                  0               0              0   \n",
       "6018             0                  0               0              0   \n",
       "\n",
       "      car_name_3  car_name_E-Class  \n",
       "6014           0                 0  \n",
       "6015           0                 0  \n",
       "6016           0                 0  \n",
       "6017           0                 0  \n",
       "6018           0                 0  \n",
       "\n",
       "[5 rows x 59 columns]"
      ]
     },
     "execution_count": 72,
     "metadata": {},
     "output_type": "execute_result"
    }
   ],
   "source": [
    "X_train.tail()"
   ]
  },
  {
   "cell_type": "code",
   "execution_count": 73,
   "metadata": {},
   "outputs": [],
   "source": [
    "X_test = big_df[6019:]"
   ]
  },
  {
   "cell_type": "code",
   "execution_count": 74,
   "metadata": {},
   "outputs": [
    {
     "data": {
      "text/html": [
       "<div>\n",
       "<style scoped>\n",
       "    .dataframe tbody tr th:only-of-type {\n",
       "        vertical-align: middle;\n",
       "    }\n",
       "\n",
       "    .dataframe tbody tr th {\n",
       "        vertical-align: top;\n",
       "    }\n",
       "\n",
       "    .dataframe thead th {\n",
       "        text-align: right;\n",
       "    }\n",
       "</style>\n",
       "<table border=\"1\" class=\"dataframe\">\n",
       "  <thead>\n",
       "    <tr style=\"text-align: right;\">\n",
       "      <th></th>\n",
       "      <th>Year</th>\n",
       "      <th>Kilometers_Driven</th>\n",
       "      <th>Seats</th>\n",
       "      <th>mileage</th>\n",
       "      <th>engine</th>\n",
       "      <th>power</th>\n",
       "      <th>Location_Mumbai</th>\n",
       "      <th>Location_Hyderabad</th>\n",
       "      <th>Location_Kochi</th>\n",
       "      <th>Location_Coimbatore</th>\n",
       "      <th>...</th>\n",
       "      <th>car_name_Polo</th>\n",
       "      <th>car_name_XUV500</th>\n",
       "      <th>car_name_Vento</th>\n",
       "      <th>car_name_Amaze</th>\n",
       "      <th>car_name_New</th>\n",
       "      <th>car_name_Fortuner</th>\n",
       "      <th>car_name_Creta</th>\n",
       "      <th>car_name_Figo</th>\n",
       "      <th>car_name_3</th>\n",
       "      <th>car_name_E-Class</th>\n",
       "    </tr>\n",
       "  </thead>\n",
       "  <tbody>\n",
       "    <tr>\n",
       "      <td>0</td>\n",
       "      <td>2014</td>\n",
       "      <td>40929</td>\n",
       "      <td>4.0</td>\n",
       "      <td>32.26</td>\n",
       "      <td>998</td>\n",
       "      <td>58.20</td>\n",
       "      <td>0</td>\n",
       "      <td>0</td>\n",
       "      <td>0</td>\n",
       "      <td>0</td>\n",
       "      <td>...</td>\n",
       "      <td>0</td>\n",
       "      <td>0</td>\n",
       "      <td>0</td>\n",
       "      <td>0</td>\n",
       "      <td>0</td>\n",
       "      <td>0</td>\n",
       "      <td>0</td>\n",
       "      <td>0</td>\n",
       "      <td>0</td>\n",
       "      <td>0</td>\n",
       "    </tr>\n",
       "    <tr>\n",
       "      <td>1</td>\n",
       "      <td>2013</td>\n",
       "      <td>54493</td>\n",
       "      <td>5.0</td>\n",
       "      <td>24.70</td>\n",
       "      <td>796</td>\n",
       "      <td>47.30</td>\n",
       "      <td>0</td>\n",
       "      <td>0</td>\n",
       "      <td>0</td>\n",
       "      <td>1</td>\n",
       "      <td>...</td>\n",
       "      <td>0</td>\n",
       "      <td>0</td>\n",
       "      <td>0</td>\n",
       "      <td>0</td>\n",
       "      <td>0</td>\n",
       "      <td>0</td>\n",
       "      <td>0</td>\n",
       "      <td>0</td>\n",
       "      <td>0</td>\n",
       "      <td>0</td>\n",
       "    </tr>\n",
       "    <tr>\n",
       "      <td>2</td>\n",
       "      <td>2017</td>\n",
       "      <td>34000</td>\n",
       "      <td>7.0</td>\n",
       "      <td>13.68</td>\n",
       "      <td>2393</td>\n",
       "      <td>147.80</td>\n",
       "      <td>1</td>\n",
       "      <td>0</td>\n",
       "      <td>0</td>\n",
       "      <td>0</td>\n",
       "      <td>...</td>\n",
       "      <td>0</td>\n",
       "      <td>0</td>\n",
       "      <td>0</td>\n",
       "      <td>0</td>\n",
       "      <td>0</td>\n",
       "      <td>0</td>\n",
       "      <td>0</td>\n",
       "      <td>0</td>\n",
       "      <td>0</td>\n",
       "      <td>0</td>\n",
       "    </tr>\n",
       "    <tr>\n",
       "      <td>3</td>\n",
       "      <td>2012</td>\n",
       "      <td>139000</td>\n",
       "      <td>5.0</td>\n",
       "      <td>23.59</td>\n",
       "      <td>1364</td>\n",
       "      <td>74.00</td>\n",
       "      <td>0</td>\n",
       "      <td>1</td>\n",
       "      <td>0</td>\n",
       "      <td>0</td>\n",
       "      <td>...</td>\n",
       "      <td>0</td>\n",
       "      <td>0</td>\n",
       "      <td>0</td>\n",
       "      <td>0</td>\n",
       "      <td>0</td>\n",
       "      <td>0</td>\n",
       "      <td>0</td>\n",
       "      <td>0</td>\n",
       "      <td>0</td>\n",
       "      <td>0</td>\n",
       "    </tr>\n",
       "    <tr>\n",
       "      <td>4</td>\n",
       "      <td>2014</td>\n",
       "      <td>29000</td>\n",
       "      <td>5.0</td>\n",
       "      <td>18.50</td>\n",
       "      <td>1197</td>\n",
       "      <td>82.85</td>\n",
       "      <td>1</td>\n",
       "      <td>0</td>\n",
       "      <td>0</td>\n",
       "      <td>0</td>\n",
       "      <td>...</td>\n",
       "      <td>0</td>\n",
       "      <td>0</td>\n",
       "      <td>0</td>\n",
       "      <td>0</td>\n",
       "      <td>0</td>\n",
       "      <td>0</td>\n",
       "      <td>0</td>\n",
       "      <td>0</td>\n",
       "      <td>0</td>\n",
       "      <td>0</td>\n",
       "    </tr>\n",
       "  </tbody>\n",
       "</table>\n",
       "<p>5 rows × 59 columns</p>\n",
       "</div>"
      ],
      "text/plain": [
       "   Year  Kilometers_Driven  Seats  mileage  engine   power  Location_Mumbai  \\\n",
       "0  2014              40929    4.0    32.26     998   58.20                0   \n",
       "1  2013              54493    5.0    24.70     796   47.30                0   \n",
       "2  2017              34000    7.0    13.68    2393  147.80                1   \n",
       "3  2012             139000    5.0    23.59    1364   74.00                0   \n",
       "4  2014              29000    5.0    18.50    1197   82.85                1   \n",
       "\n",
       "   Location_Hyderabad  Location_Kochi  Location_Coimbatore  ...  \\\n",
       "0                   0               0                    0  ...   \n",
       "1                   0               0                    1  ...   \n",
       "2                   0               0                    0  ...   \n",
       "3                   1               0                    0  ...   \n",
       "4                   0               0                    0  ...   \n",
       "\n",
       "   car_name_Polo  car_name_XUV500  car_name_Vento  car_name_Amaze  \\\n",
       "0              0                0               0               0   \n",
       "1              0                0               0               0   \n",
       "2              0                0               0               0   \n",
       "3              0                0               0               0   \n",
       "4              0                0               0               0   \n",
       "\n",
       "   car_name_New  car_name_Fortuner  car_name_Creta  car_name_Figo  car_name_3  \\\n",
       "0             0                  0               0              0           0   \n",
       "1             0                  0               0              0           0   \n",
       "2             0                  0               0              0           0   \n",
       "3             0                  0               0              0           0   \n",
       "4             0                  0               0              0           0   \n",
       "\n",
       "   car_name_E-Class  \n",
       "0                 0  \n",
       "1                 0  \n",
       "2                 0  \n",
       "3                 0  \n",
       "4                 0  \n",
       "\n",
       "[5 rows x 59 columns]"
      ]
     },
     "execution_count": 74,
     "metadata": {},
     "output_type": "execute_result"
    }
   ],
   "source": [
    "X_test = X_test.drop(['Price'], axis=1)\n",
    "X_test.head()"
   ]
  },
  {
   "cell_type": "code",
   "execution_count": 75,
   "metadata": {},
   "outputs": [
    {
     "data": {
      "text/plain": [
       "[<matplotlib.lines.Line2D at 0x2994d7e8448>,\n",
       " <matplotlib.lines.Line2D at 0x2994d7c9708>,\n",
       " <matplotlib.lines.Line2D at 0x2994d7c9208>,\n",
       " <matplotlib.lines.Line2D at 0x2994d7c8f08>,\n",
       " <matplotlib.lines.Line2D at 0x2994d7c8f88>,\n",
       " <matplotlib.lines.Line2D at 0x2994d7c8888>,\n",
       " <matplotlib.lines.Line2D at 0x2994d7c85c8>,\n",
       " <matplotlib.lines.Line2D at 0x2994d7c84c8>,\n",
       " <matplotlib.lines.Line2D at 0x2994d7c8048>,\n",
       " <matplotlib.lines.Line2D at 0x2994d7c8b08>,\n",
       " <matplotlib.lines.Line2D at 0x2994d7c7808>,\n",
       " <matplotlib.lines.Line2D at 0x2994d7c7548>,\n",
       " <matplotlib.lines.Line2D at 0x2994d7c75c8>,\n",
       " <matplotlib.lines.Line2D at 0x2994d7c6f88>,\n",
       " <matplotlib.lines.Line2D at 0x2994d7c69c8>,\n",
       " <matplotlib.lines.Line2D at 0x2994d7c6ac8>,\n",
       " <matplotlib.lines.Line2D at 0x2994d7c6448>,\n",
       " <matplotlib.lines.Line2D at 0x2994d7c6188>,\n",
       " <matplotlib.lines.Line2D at 0x2994d7c4e88>,\n",
       " <matplotlib.lines.Line2D at 0x2994d7c4b08>,\n",
       " <matplotlib.lines.Line2D at 0x2994d7c49c8>,\n",
       " <matplotlib.lines.Line2D at 0x2994d7c4488>,\n",
       " <matplotlib.lines.Line2D at 0x2994d7c4048>,\n",
       " <matplotlib.lines.Line2D at 0x2994d7c3d88>,\n",
       " <matplotlib.lines.Line2D at 0x2994d7c3b48>,\n",
       " <matplotlib.lines.Line2D at 0x2994d7c3bc8>,\n",
       " <matplotlib.lines.Line2D at 0x2994d7c3348>,\n",
       " <matplotlib.lines.Line2D at 0x2994d7c33c8>,\n",
       " <matplotlib.lines.Line2D at 0x2994d7c2c88>,\n",
       " <matplotlib.lines.Line2D at 0x2994d7c2748>,\n",
       " <matplotlib.lines.Line2D at 0x2994d7c2848>,\n",
       " <matplotlib.lines.Line2D at 0x2994d7c2488>,\n",
       " <matplotlib.lines.Line2D at 0x2994d7c2148>,\n",
       " <matplotlib.lines.Line2D at 0x2994d7c1c88>,\n",
       " <matplotlib.lines.Line2D at 0x2994d7c1988>,\n",
       " <matplotlib.lines.Line2D at 0x2994d7c1608>,\n",
       " <matplotlib.lines.Line2D at 0x2994d7c1348>,\n",
       " <matplotlib.lines.Line2D at 0x2994d7c11c8>,\n",
       " <matplotlib.lines.Line2D at 0x2994d7bfdc8>,\n",
       " <matplotlib.lines.Line2D at 0x2994d7bf988>,\n",
       " <matplotlib.lines.Line2D at 0x2994d7bf448>,\n",
       " <matplotlib.lines.Line2D at 0x2994d7bf4c8>,\n",
       " <matplotlib.lines.Line2D at 0x2994d7bf1c8>,\n",
       " <matplotlib.lines.Line2D at 0x2994d7beac8>,\n",
       " <matplotlib.lines.Line2D at 0x2994d7be948>,\n",
       " <matplotlib.lines.Line2D at 0x2994d7be6c8>,\n",
       " <matplotlib.lines.Line2D at 0x2994d7be348>,\n",
       " <matplotlib.lines.Line2D at 0x2994d7bde88>,\n",
       " <matplotlib.lines.Line2D at 0x2994d7bdc08>,\n",
       " <matplotlib.lines.Line2D at 0x2994d7bd888>,\n",
       " <matplotlib.lines.Line2D at 0x2994d7bd708>,\n",
       " <matplotlib.lines.Line2D at 0x2994d7bd1c8>,\n",
       " <matplotlib.lines.Line2D at 0x2994d7bcd88>,\n",
       " <matplotlib.lines.Line2D at 0x2994d7bcbc8>,\n",
       " <matplotlib.lines.Line2D at 0x2994d7bc988>,\n",
       " <matplotlib.lines.Line2D at 0x2994d7bc548>,\n",
       " <matplotlib.lines.Line2D at 0x2994d7bc108>,\n",
       " <matplotlib.lines.Line2D at 0x2994d7baf48>,\n",
       " <matplotlib.lines.Line2D at 0x2994d7ba848>]"
      ]
     },
     "execution_count": 75,
     "metadata": {},
     "output_type": "execute_result"
    },
    {
     "data": {
      "image/png": "[encoded data removed]",
      "text/plain": [
       "<Figure size 432x288 with 1 Axes>"
      ]
     },
     "metadata": {
      "needs_background": "light"
     },
     "output_type": "display_data"
    }
   ],
   "source": [
    "plt.plot(X_train, y_train, color = 'red')"
   ]
  },
  {
   "cell_type": "code",
   "execution_count": 76,
   "metadata": {},
   "outputs": [],
   "source": [
    "from sklearn.preprocessing import StandardScaler\n",
    "sc = StandardScaler()\n",
    "X_train = sc.fit_transform(X_train)\n",
    "X_test = sc.transform(X_test)"
   ]
  },
  {
   "cell_type": "code",
   "execution_count": 77,
   "metadata": {},
   "outputs": [
    {
     "data": {
      "text/plain": [
       "RandomForestRegressor(bootstrap=True, criterion='mse', max_depth=None,\n",
       "                      max_features='auto', max_leaf_nodes=None,\n",
       "                      min_impurity_decrease=0.0, min_impurity_split=None,\n",
       "                      min_samples_leaf=1, min_samples_split=2,\n",
       "                      min_weight_fraction_leaf=0.0, n_estimators=10,\n",
       "                      n_jobs=None, oob_score=False, random_state=None,\n",
       "                      verbose=0, warm_start=False)"
      ]
     },
     "execution_count": 77,
     "metadata": {},
     "output_type": "execute_result"
    }
   ],
   "source": [
    "from sklearn.ensemble import RandomForestRegressor\n",
    "regressor = RandomForestRegressor(n_estimators=10,criterion='mse')\n",
    "regressor.fit(X_train, y_train)"
   ]
  },
  {
   "cell_type": "code",
   "execution_count": 78,
   "metadata": {},
   "outputs": [],
   "source": [
    "#from sklearn.tree import DecisionTreeRegressor\n",
    "#regressor = DecisionTreeRegressor(criterion = 'mse')\n",
    "#regressor.fit(X_train, y_train)"
   ]
  },
  {
   "cell_type": "code",
   "execution_count": 79,
   "metadata": {},
   "outputs": [],
   "source": [
    "#from sklearn.svm import SVR\n",
    "#regressor = SVR(kernel='rbf')\n",
    "#regressor.fit(X_train, y_train)"
   ]
  },
  {
   "cell_type": "code",
   "execution_count": 80,
   "metadata": {},
   "outputs": [],
   "source": [
    "#from sklearn.linear_model import LinearRegression\n",
    "#regressor = LinearRegression()\n",
    "#regressor.fit(X_train, y_train)"
   ]
  },
  {
   "cell_type": "code",
   "execution_count": 81,
   "metadata": {},
   "outputs": [],
   "source": [
    "y_test = regressor.predict(X_test)"
   ]
  },
  {
   "cell_type": "code",
   "execution_count": 82,
   "metadata": {},
   "outputs": [
    {
     "data": {
      "image/png": "[encoded data removed]",
      "text/plain": [
       "<Figure size 432x288 with 1 Axes>"
      ]
     },
     "metadata": {
      "needs_background": "light"
     },
     "output_type": "display_data"
    }
   ],
   "source": [
    "plt.plot(X_train, regressor.predict(X_train), color = 'blue')\n",
    "plt.show()"
   ]
  },
  {
   "cell_type": "code",
   "execution_count": 83,
   "metadata": {},
   "outputs": [
    {
     "data": {
      "image/png": "[encoded data removed]",
      "text/plain": [
       "<Figure size 432x288 with 1 Axes>"
      ]
     },
     "metadata": {
      "needs_background": "light"
     },
     "output_type": "display_data"
    }
   ],
   "source": [
    "plt.plot(X_test, regressor.predict(X_test), color = 'blue')\n",
    "plt.show()"
   ]
  },
  {
   "cell_type": "code",
   "execution_count": 84,
   "metadata": {},
   "outputs": [],
   "source": [
    "df = pd.DataFrame (y_test)\n",
    "filepath = 'my_sub_rd.xlsx'\n",
    "df.to_excel(filepath, index=False)"
   ]
  },
  {
   "cell_type": "code",
   "execution_count": null,
   "metadata": {},
   "outputs": [],
   "source": []
  }
 ],
 "metadata": {
  "kernelspec": {
   "display_name": "Python 3",
   "language": "python",
   "name": "python3"
  },
  "language_info": {
   "codemirror_mode": {
    "name": "ipython",
    "version": 3
   },
   "file_extension": ".py",
   "mimetype": "text/x-python",
   "name": "python",
   "nbconvert_exporter": "python",
   "pygments_lexer": "ipython3",
   "version": "3.7.4"
  }
 },
 "nbformat": 4,
 "nbformat_minor": 2
}
